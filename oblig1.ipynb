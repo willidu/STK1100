{
 "cells": [
  {
   "cell_type": "code",
   "execution_count": 61,
   "metadata": {},
   "outputs": [
    {
     "data": {
      "image/png": "[encoded data removed]",
      "text/plain": [
       "<Figure size 432x288 with 1 Axes>"
      ]
     },
     "metadata": {
      "needs_background": "light"
     },
     "output_type": "display_data"
    }
   ],
   "source": [
    "import numpy as np\n",
    "import matplotlib.pyplot as plt\n",
    "from pandas import read_csv\n",
    "\n",
    "dod = read_csv('https://www.uio.no/studier/emner/matnat/math/STK1100/v20/dodssannsynlighet-felles.txt', sep='\\t')\n",
    "age = dod['ald'].values\n",
    "prob = dod['dod'].values\n",
    "\n",
    "age = age[:72]\n",
    "prob = prob[35:]\n",
    "\n",
    "qx = prob/1000\n",
    "\n",
    "Fx = 1 - np.cumprod(1-qx)\n",
    "\n",
    "temp = np.zeros(len(Fx))\n",
    "temp[1:] = Fx[:-1]\n",
    "px = Fx - temp\n",
    "\n",
    "plt.bar(age, px, width=1, edgecolor='black')\n",
    "plt.xlabel('Gjentående levetid')\n",
    "plt.ylabel('Punktsannsynlighet')\n",
    "plt.show()\n"
   ]
  },
  {
   "cell_type": "code",
   "execution_count": 57,
   "metadata": {},
   "outputs": [
    {
     "name": "stdout",
     "output_type": "stream",
     "text": [
      "Forventet nåverdi av pensjonsutbetalinger: 501512 kr.\n"
     ]
    }
   ],
   "source": [
    "hx = (1e5/1.03**32)*((1-(1/1.03)**(age-31))/(1-(1/1.03))) * (age>=32)\n",
    "Ex_h = np.sum(hx*px)\n",
    "print(f'Forventet nåverdi av pensjonsutbetalinger: {Ex_h:.0f} kr.')"
   ]
  },
  {
   "cell_type": "code",
   "execution_count": 58,
   "metadata": {},
   "outputs": [
    {
     "data": {
      "text/plain": [
       "22.549276707232753"
      ]
     },
     "execution_count": 58,
     "metadata": {},
     "output_type": "execute_result"
    }
   ],
   "source": [
    "gx = (1-(1/1.03)**(age+1))/(1-(1/1.03)) * (age<=31) \\\n",
    "   + (1-(1/1.03)**(32))/(1-(1/1.03))\n",
    "Ex_g = np.sum(gx*px)\n",
    "Ex_g"
   ]
  },
  {
   "cell_type": "code",
   "execution_count": 59,
   "metadata": {},
   "outputs": [
    {
     "name": "stdout",
     "output_type": "stream",
     "text": [
      "Årlig premie K: 22241 kr.\n"
     ]
    }
   ],
   "source": [
    "K = Ex_h / Ex_g\n",
    "print(f'Årlig premie K: {K:.0f} kr.')"
   ]
  }
 ],
 "metadata": {
  "interpreter": {
   "hash": "b3ba2566441a7c06988d0923437866b63cedc61552a5af99d1f4fb67d367b25f"
  },
  "kernelspec": {
   "display_name": "Python 3.9.7 ('base')",
   "language": "python",
   "name": "python3"
  },
  "language_info": {
   "codemirror_mode": {
    "name": "ipython",
    "version": 3
   },
   "file_extension": ".py",
   "mimetype": "text/x-python",
   "name": "python",
   "nbconvert_exporter": "python",
   "pygments_lexer": "ipython3",
   "version": "3.9.7"
  },
  "orig_nbformat": 4
 },
 "nbformat": 4,
 "nbformat_minor": 2
}
