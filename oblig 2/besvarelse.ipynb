{
 "cells": [
  {
   "cell_type": "markdown",
   "metadata": {},
   "source": [
    "### Task 1a\n",
    "$$\n",
    "    f(x, y) = \n",
    "    \\left\\{\\begin{matrix}\n",
    "    k(x+2y) & 0\\leq x, y \\leq 1, x+y\\leq 1 \\\\ \n",
    "    0 & \\text{Otherwise}\n",
    "    \\end{matrix}\\right.\n",
    "$$\n",
    "To find $k$, we need to have $\\iint_\\mathbb{R} f(x, y)dxdy = 1$.\n",
    "\\begin{align*}\n",
    "    \\int_\\mathbb{R} f(x)dx \n",
    "    &= k \\int_0^1 \\int_0^{1-x} (x+2y)dydx \\\\\n",
    "    &= k \\int_0^1 (1-x)dx \\\\\n",
    "    &= \\frac{1}{2}\\\\\n",
    "    \\implies k &= 2\n",
    "\\end{align*}\n",
    "\n",
    "### Task 1b\n",
    "\\begin{align*}\n",
    "    f_Y(y) \n",
    "    &= \\int_{\\mathbb{R}} f(x, y)dx \\\\\n",
    "    &= \\int_0^{1-y} 2(x+2y)dx \\\\\n",
    "    &= [x^2 + 4xy]_{x=0}^{x=1-y} \\\\\n",
    "    &= 1 - 2y + y^2 + 4y - 4y^2 \\\\\n",
    "    &= 1 + 2y - 3y^2 &  0 \\leq y \\leq 1\n",
    "\\end{align*}\n",
    "\n",
    "### Task 1c\n",
    "\\begin{align*}\n",
    "    f_{X|Y}(y) \n",
    "    &= \\frac{f(x, y)}{f_Y(y)} \\\\\n",
    "    &= \\frac{2(x+2y)}{1+2y-3y^2} \\\\\n",
    "    &= \\frac{2x+4y}{1+2y-3y^2}\n",
    "\\end{align*}\n",
    "\n",
    "### Task 1d\n",
    "X and Y are independent if $ f_X(x) f_Y(y) = f(x, y)$. First we need to find $f_X(x)$:\n",
    "\\begin{align*}\n",
    "    f_X(x) = \\int_{\\mathbb{R}} f(x, y) dy = \\int_0^{1-x} (2x+4y)dy = 2-2x\n",
    "\\end{align*}\n",
    "We can now calculate $f_X(x) f_Y(y)$:\n",
    "\\begin{align*}\n",
    "    f_X(x) f_Y(y) \n",
    "    &= (2-2x)(1+2y-3y^2) \\\\\n",
    "    &= 2 + 4y - 2x - 4xy + 6xy^2 \\\\\n",
    "    &\\ne f(x, y)\n",
    "\\end{align*}"
   ]
  },
  {
   "cell_type": "markdown",
   "metadata": {},
   "source": [
    "### Task 2a"
   ]
  },
  {
   "cell_type": "code",
   "execution_count": 21,
   "metadata": {},
   "outputs": [],
   "source": [
    "import numpy as np\n",
    "import matplotlib.pyplot as plt\n",
    "import pandas as pd\n",
    "import scipy.stats, scipy.interpolate"
   ]
  },
  {
   "cell_type": "code",
   "execution_count": 22,
   "metadata": {},
   "outputs": [
    {
     "data": {
      "image/png": "[encoded data removed]",
      "text/plain": [
       "<Figure size 432x288 with 2 Axes>"
      ]
     },
     "metadata": {
      "needs_background": "light"
     },
     "output_type": "display_data"
    }
   ],
   "source": [
    "time = pd.read_csv(\n",
    "    'https://www.uio.no/studier/emner/matnat/math/STK1100/data/egypt_data.txt',\n",
    "    header=None\n",
    ")\n",
    "\n",
    "t_m = np.asarray(time[:82]).flatten()\n",
    "t_f = np.asarray(time[82:]).flatten()\n",
    "\n",
    "def empirical_cdf(x):\n",
    "    return scipy.interpolate.interp1d(\n",
    "                np.sort(x), \n",
    "                np.arange(len(x))/float(len(x)), \n",
    "                kind = 'zero', \n",
    "                fill_value = 'extrapolate'\n",
    "            )\n",
    "\n",
    "fig, ax = plt.subplots(ncols=2, sharex=True)\n",
    "fig.suptitle('Empirical cumulative distribution function')\n",
    "z = np.linspace(0, 110, 1000)\n",
    "\n",
    "F_m = empirical_cdf(t_m)\n",
    "ax[0].step(z, F_m(z))\n",
    "ax[0].set(\n",
    "    xlabel = 'Time [years]',\n",
    "    ylabel = 'Survival rate',\n",
    "    title = 'Male',\n",
    "    xlim = (0, 110)\n",
    ")\n",
    "ax[0].grid()\n",
    "\n",
    "F_f = empirical_cdf(t_f)\n",
    "ax[1].step(z, F_f(z))\n",
    "ax[1].set(\n",
    "    xlabel = 'Time [years]',\n",
    "    title = 'Female',\n",
    "    xlim = (0, 110)\n",
    ")\n",
    "ax[1].grid()\n",
    "\n",
    "plt.show()"
   ]
  },
  {
   "cell_type": "markdown",
   "metadata": {},
   "source": [
    "### Task 2b\n",
    "We can find $\\alpha$ and $\\Beta$ by using $\\mathbb{E}(T)=\\alpha\\beta$ and $\\text{Var}(T)=\\alpha{\\beta}^2$. This is done in $\\verb|estimate_moments_gamma(t)|$"
   ]
  },
  {
   "cell_type": "code",
   "execution_count": 23,
   "metadata": {},
   "outputs": [
    {
     "name": "stdout",
     "output_type": "stream",
     "text": [
      "Gender: Male\n",
      "Alpha = 2.211\n",
      "Beta = 15.430\n",
      "E(X) = 34.12 years \n",
      "\n",
      "Gender: Male\n",
      "Alpha = 2.240\n",
      "Beta = 11.572\n",
      "E(X) = 25.92 years\n"
     ]
    }
   ],
   "source": [
    "def estimate_moments_gamma(t):\n",
    "    t_mean = np.mean(t)\n",
    "    s_sq = np.var(t)\n",
    "\n",
    "    beta = s_sq / t_mean\n",
    "    alpha = t_mean / beta\n",
    "    Ex = alpha * beta\n",
    "\n",
    "    return alpha, beta, Ex\n",
    "\n",
    "alpha_m, beta_m, Ex_m = estimate_moments_gamma(t_m)\n",
    "alpha_f, beta_f, Ex_f = estimate_moments_gamma(t_f)\n",
    "\n",
    "print(f'Gender: Male')\n",
    "print(f'Alpha = {alpha_m:.3f}')\n",
    "print(f'Beta = {beta_m:.3f}')\n",
    "print(f'E(X) = {Ex_m:.2f} years \\n')\n",
    "\n",
    "print(f'Gender: Male')\n",
    "print(f'Alpha = {alpha_f:.3f}')\n",
    "print(f'Beta = {beta_f:.3f}')\n",
    "print(f'E(X) = {Ex_f:.2f} years')"
   ]
  },
  {
   "cell_type": "markdown",
   "metadata": {},
   "source": [
    "We observe that the life expectancy is higher for males compared to females.\n",
    "\n",
    "### Task 2c\n",
    "We set $Y = \\exp{X}$ where $X \\sim N(\\mu, \\sigma)$. The transformation is given by $g(y) = f(v(y))|v'(y)|$. We set $Y=e^X$ which yields $x = \\ln y$. This gives $|v'(y)|=v'(y) = \\frac{1}{y}$. Using the PDF of a normally distributed random variable, we find\n",
    "$$\n",
    "    g(y) = \n",
    "    \\frac{1}{y \\sigma \\sqrt{2 \\pi }}\n",
    "    \\exp{\n",
    "        \\left[\n",
    "            - \\frac{{(\\ln y - \\mu)}^2}{2\\sigma^2}\n",
    "        \\right]\n",
    "    }\n",
    "$$\n",
    "\n",
    "### Task 2d\n",
    "Rearranging the given relationships we get\n",
    "$$\n",
    "    \\mu = \\ln \\bar{t} - \\frac{\\sigma^2}{2}, \\hspace{0.5cm}\n",
    "    \\sigma^2 = \\ln \\left[\n",
    "        1 + \\frac{S^2}{{\\bar{t}}^2}\n",
    "    \\right]\n",
    "$$\n"
   ]
  },
  {
   "cell_type": "code",
   "execution_count": 24,
   "metadata": {},
   "outputs": [
    {
     "name": "stdout",
     "output_type": "stream",
     "text": [
      "Gender: Male\n",
      "Mu = 3.343\n",
      "Sigma^2 = 0.373\n",
      "E(T) = 34.12 years \n",
      "\n",
      "Gender: Female\n",
      "Mu = 3.071\n",
      "Sigma^2 = 0.369\n",
      "E(T) = 25.92 years\n"
     ]
    }
   ],
   "source": [
    "def estimate_moments_lognormal(t):\n",
    "    t_mean = np.mean(t)\n",
    "    s_sq = np.var(t)\n",
    "\n",
    "    sigma_sq = np.log(s_sq/(t_mean**2) + 1)\n",
    "    mu = np.log(t_mean) - sigma_sq/2\n",
    "    Ex = np.exp(mu + sigma_sq/2)\n",
    "\n",
    "    return mu, sigma_sq, Ex\n",
    "\n",
    "mu_m, sigma_sq_m, Ex_m = estimate_moments_lognormal(t_m)\n",
    "mu_f, sigma_sq_f, Ex_f = estimate_moments_lognormal(t_f)\n",
    "\n",
    "print(f'Gender: Male')\n",
    "print(f'Mu = {mu_m:.3f}')\n",
    "print(f'Sigma^2 = {sigma_sq_m:.3f}')\n",
    "print(f'E(T) = {Ex_m:.2f} years \\n')\n",
    "\n",
    "print(f'Gender: Female')\n",
    "print(f'Mu = {mu_f:.3f}')\n",
    "print(f'Sigma^2 = {sigma_sq_f:.3f}')\n",
    "print(f'E(T) = {Ex_f:.2f} years')"
   ]
  },
  {
   "cell_type": "markdown",
   "metadata": {},
   "source": [
    "We observe that the life expectancy is longer for males compared to females, and the estimation yields the same result as in (b)."
   ]
  },
  {
   "cell_type": "markdown",
   "metadata": {},
   "source": [
    "### Task 2e"
   ]
  },
  {
   "cell_type": "code",
   "execution_count": 25,
   "metadata": {},
   "outputs": [
    {
     "data": {
      "image/png": "[encoded data removed]",
      "text/plain": [
       "<Figure size 432x288 with 2 Axes>"
      ]
     },
     "metadata": {
      "needs_background": "light"
     },
     "output_type": "display_data"
    }
   ],
   "source": [
    "fig, ax = plt.subplots(ncols=2, sharex=True)\n",
    "fig.suptitle('Comparison cumulative distribution functions')\n",
    "z = np.linspace(0, 110, 1000)\n",
    "\n",
    "for i, t in enumerate((t_m, t_f)):\n",
    "    F = empirical_cdf(t)\n",
    "    ax[i].step(z, F(z), label='Empirical')\n",
    "\n",
    "    mu, sigma_sq, Ex = estimate_moments_lognormal(t)\n",
    "    ax[i].step(z, scipy.stats.lognorm.cdf(z, s=np.sqrt(sigma_sq), scale=np.exp(mu)), label='Lognormal')\n",
    "\n",
    "    alpha, beta, Ex = estimate_moments_gamma(t)\n",
    "    ax[i].step(z, scipy.stats.gamma.cdf(z, a=alpha, scale=beta), label='Gamma')\n",
    "\n",
    "    ax[i].grid('True')\n",
    "    ax[i].legend(loc='lower right', prop={'size': 8})\n",
    "\n",
    "ax[0].set(\n",
    "    xlabel = 'Time [years]',\n",
    "    ylabel = 'Survival rate',\n",
    "    title = 'Male',\n",
    "    xlim = (0, 110)\n",
    ")\n",
    "\n",
    "ax[1].set(\n",
    "    xlabel = 'Time [years]',\n",
    "    title = 'Female',\n",
    "    xlim = (0, 110)\n",
    ")\n",
    "\n",
    "plt.show()"
   ]
  },
  {
   "cell_type": "markdown",
   "metadata": {},
   "source": [
    "Both the log-normal and the gamma distribution seem to fit the data. There are some minor differences, and it looks as the gamma distribution is most appropriate for males. For females, the differences between log-normal and gamma are even smaller."
   ]
  },
  {
   "cell_type": "markdown",
   "metadata": {},
   "source": [
    "### Task 3d"
   ]
  },
  {
   "cell_type": "code",
   "execution_count": 26,
   "metadata": {},
   "outputs": [
    {
     "name": "stdout",
     "output_type": "stream",
     "text": [
      "Analytical median = 12.476\n",
      "Calculated median = 12.675\n"
     ]
    },
    {
     "data": {
      "image/png": "[encoded data removed]",
      "text/plain": [
       "<Figure size 432x288 with 1 Axes>"
      ]
     },
     "metadata": {
      "needs_background": "light"
     },
     "output_type": "display_data"
    }
   ],
   "source": [
    "n = 10_000\n",
    "lmbda = 48\n",
    "alpha = 3\n",
    "\n",
    "def F(x, lmbda=48, alpha=3):\n",
    "    return 1 - (1 + x/lmbda)**(-alpha) * (x>0)\n",
    "\n",
    "u = np.random.uniform(0, 1, n)\n",
    "plt.hist(u, density=True, edgecolor='black')\n",
    "plt.title('Normalized histogram for U')\n",
    "\n",
    "x = scipy.stats.lomax(c=alpha, scale=lmbda)\n",
    "X = x.rvs(size=n)\n",
    "print(f'Analytical median = {x.median():.3f}')\n",
    "print(f'Calculated median = {np.median(X):.3f}')\n",
    "\n",
    "plt.show()"
   ]
  },
  {
   "cell_type": "markdown",
   "metadata": {},
   "source": [
    "### Task 3e"
   ]
  },
  {
   "cell_type": "code",
   "execution_count": 27,
   "metadata": {},
   "outputs": [
    {
     "data": {
      "image/png": "[encoded data removed]",
      "text/plain": [
       "<Figure size 432x288 with 1 Axes>"
      ]
     },
     "metadata": {
      "needs_background": "light"
     },
     "output_type": "display_data"
    }
   ],
   "source": [
    "plt.hist(X, bins=50, density=True, edgecolor='black')\n",
    "plt.title('Normalized histogram for X')\n",
    "plt.xlim(0, 360)\n",
    "plt.show()"
   ]
  },
  {
   "cell_type": "markdown",
   "metadata": {},
   "source": [
    "### Task 3f"
   ]
  },
  {
   "cell_type": "code",
   "execution_count": 28,
   "metadata": {},
   "outputs": [
    {
     "data": {
      "image/png": "[encoded data removed]",
      "text/plain": [
       "<Figure size 432x288 with 1 Axes>"
      ]
     },
     "metadata": {
      "needs_background": "light"
     },
     "output_type": "display_data"
    }
   ],
   "source": [
    "# copy code from last cell\n",
    "\n",
    "y, *_ = plt.hist(X, bins=50, density=True, edgecolor='black')\n",
    "\n",
    "t = np.linspace(0, 360, n)\n",
    "plt.plot(t, x.pdf(t), label='PDF')\n",
    "\n",
    "plt.title('Normalized histogram for X')\n",
    "plt.xlim(0, 360)\n",
    "plt.ylim(None, 1.1*y.max())\n",
    "plt.legend()\n",
    "plt.show()"
   ]
  }
 ],
 "metadata": {
  "interpreter": {
   "hash": "485035c5b2a6f2b50dc2dc5ca51aeeb931032fbc9adc2e30c7c528d6bf8a9176"
  },
  "kernelspec": {
   "display_name": "Python 3.8.8 ('base')",
   "language": "python",
   "name": "python3"
  },
  "language_info": {
   "codemirror_mode": {
    "name": "ipython",
    "version": 3
   },
   "file_extension": ".py",
   "mimetype": "text/x-python",
   "name": "python",
   "nbconvert_exporter": "python",
   "pygments_lexer": "ipython3",
   "version": "3.8.8"
  },
  "orig_nbformat": 4
 },
 "nbformat": 4,
 "nbformat_minor": 2
}
